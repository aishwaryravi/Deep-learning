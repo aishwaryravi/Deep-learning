{
 "cells": [
  {
   "cell_type": "code",
   "execution_count": 1,
   "metadata": {},
   "outputs": [],
   "source": [
    "import keras\n",
    "from keras.models import Sequential\n",
    "from keras.layers import Dense\n",
    "from keras.utils import to_categorical"
   ]
  },
  {
   "cell_type": "code",
   "execution_count": 2,
   "metadata": {},
   "outputs": [],
   "source": [
    "from keras.layers.convolutional import Conv2D\n",
    "from keras.layers.convolutional import MaxPooling2D\n",
    "from keras.layers import Flatten"
   ]
  },
  {
   "cell_type": "code",
   "execution_count": 3,
   "metadata": {},
   "outputs": [],
   "source": [
    "# import data\n",
    "\n",
    "from keras.datasets import mnist\n",
    "\n",
    "(X_train, y_train), (X_test, y_test) = mnist.load_data()\n",
    "\n",
    "X_train = X_train.reshape(X_train.shape[0], 28, 28, 1).astype('float32')\n",
    "X_test = X_test.reshape(X_test.shape[0], 28, 28, 1).astype('float32')"
   ]
  },
  {
   "cell_type": "code",
   "execution_count": 4,
   "metadata": {},
   "outputs": [],
   "source": [
    "# Normalize\n",
    "\n",
    "X_train = X_train/255\n",
    "X_test = X_test/255"
   ]
  },
  {
   "cell_type": "code",
   "execution_count": 5,
   "metadata": {},
   "outputs": [
    {
     "data": {
      "text/plain": [
       "10"
      ]
     },
     "execution_count": 5,
     "metadata": {},
     "output_type": "execute_result"
    }
   ],
   "source": [
    "y_train = to_categorical(y_train)\n",
    "y_test = to_categorical(y_test)\n",
    "\n",
    "num_classes = y_test.shape[1]\n",
    "num_classes"
   ]
  },
  {
   "cell_type": "code",
   "execution_count": 8,
   "metadata": {},
   "outputs": [],
   "source": [
    "def covolutional_model():\n",
    "    model = Sequential()\n",
    "    \n",
    "    model.add(Conv2D(16, (5,5), strides = (1,1), activation = 'relu', input_shape=(28,28,1)))\n",
    "    model.add(MaxPooling2D(pool_size=(2, 2), strides = (2, 2)))\n",
    "    \n",
    "    model.add(Flatten())\n",
    "    model.add(Dense(100, activation = 'relu'))\n",
    "    model.add(Dense(num_classes, activation = 'softmax'))\n",
    "    \n",
    "    # compile model\n",
    "    model.compile(optimizer = 'adam', loss = 'categorical_crossentropy', metrics = ['accuracy'])\n",
    "    return model"
   ]
  },
  {
   "cell_type": "code",
   "execution_count": 11,
   "metadata": {},
   "outputs": [
    {
     "name": "stdout",
     "output_type": "stream",
     "text": [
      "Epoch 1/10\n",
      "300/300 - 20s - loss: 0.3120 - accuracy: 0.9129 - val_loss: 0.1034 - val_accuracy: 0.9697\n",
      "Epoch 2/10\n",
      "300/300 - 20s - loss: 0.0887 - accuracy: 0.9741 - val_loss: 0.0775 - val_accuracy: 0.9756\n",
      "Epoch 3/10\n",
      "300/300 - 20s - loss: 0.0603 - accuracy: 0.9821 - val_loss: 0.0529 - val_accuracy: 0.9827\n",
      "Epoch 4/10\n",
      "300/300 - 19s - loss: 0.0459 - accuracy: 0.9866 - val_loss: 0.0452 - val_accuracy: 0.9850\n",
      "Epoch 5/10\n",
      "300/300 - 19s - loss: 0.0382 - accuracy: 0.9886 - val_loss: 0.0397 - val_accuracy: 0.9856\n",
      "Epoch 6/10\n",
      "300/300 - 19s - loss: 0.0327 - accuracy: 0.9898 - val_loss: 0.0393 - val_accuracy: 0.9865\n",
      "Epoch 7/10\n",
      "300/300 - 19s - loss: 0.0268 - accuracy: 0.9917 - val_loss: 0.0394 - val_accuracy: 0.9863\n",
      "Epoch 8/10\n",
      "300/300 - 19s - loss: 0.0228 - accuracy: 0.9931 - val_loss: 0.0348 - val_accuracy: 0.9883\n",
      "Epoch 9/10\n",
      "300/300 - 19s - loss: 0.0186 - accuracy: 0.9944 - val_loss: 0.0390 - val_accuracy: 0.9871\n",
      "Epoch 10/10\n",
      "300/300 - 19s - loss: 0.0158 - accuracy: 0.9954 - val_loss: 0.0345 - val_accuracy: 0.9895\n",
      "Accuracy: 0.9894999861717224 \n",
      " Error: 1.0500013828277588\n"
     ]
    }
   ],
   "source": [
    "model = covolutional_model()\n",
    "\n",
    "model.fit(X_train, y_train, validation_data = (X_test, y_test), epochs=10, batch_size=200, verbose=2)\n",
    "\n",
    "scores = model.evaluate(X_test, y_test, verbose=0)\n",
    "print('Accuracy: {} \\n Error: {}'.format(scores[1], 100-scores[1]*100))"
   ]
  },
  {
   "cell_type": "code",
   "execution_count": 12,
   "metadata": {},
   "outputs": [],
   "source": [
    "# with two convolutional and pooling layers\n",
    "\n",
    "def convolutional_model():\n",
    "    model = Sequential()\n",
    "    \n",
    "    model.add(Conv2D(16, (5,5), activation = 'relu', input_shape=(28,28,1)))\n",
    "    model.add(MaxPooling2D(pool_size=(2,2), strides=(2,2)))\n",
    "    \n",
    "    model.add(Conv2D(8, (2,2), activation = 'relu'))\n",
    "    model.add(MaxPooling2D(pool_size=(2,2), strides=(2,2)))\n",
    "    \n",
    "    model.add(Flatten())\n",
    "    model.add(Dense(100, activation='relu'))\n",
    "    model.add(Dense(num_classes, activation='softmax'))\n",
    "    \n",
    "    model.compile(optimizer = 'adam', loss = 'categorical_crossentropy', metrics = ['accuracy'])\n",
    "    return model"
   ]
  },
  {
   "cell_type": "code",
   "execution_count": 13,
   "metadata": {},
   "outputs": [
    {
     "name": "stdout",
     "output_type": "stream",
     "text": [
      "Epoch 1/10\n",
      "300/300 - 23s - loss: 0.4830 - accuracy: 0.8611 - val_loss: 0.1280 - val_accuracy: 0.9638\n",
      "Epoch 2/10\n",
      "300/300 - 24s - loss: 0.1101 - accuracy: 0.9675 - val_loss: 0.0822 - val_accuracy: 0.9746\n",
      "Epoch 3/10\n",
      "300/300 - 22s - loss: 0.0785 - accuracy: 0.9761 - val_loss: 0.0589 - val_accuracy: 0.9809\n",
      "Epoch 4/10\n",
      "300/300 - 22s - loss: 0.0624 - accuracy: 0.9809 - val_loss: 0.0535 - val_accuracy: 0.9824\n",
      "Epoch 5/10\n",
      "300/300 - 21s - loss: 0.0527 - accuracy: 0.9839 - val_loss: 0.0536 - val_accuracy: 0.9826\n",
      "Epoch 6/10\n",
      "300/300 - 21s - loss: 0.0473 - accuracy: 0.9857 - val_loss: 0.0409 - val_accuracy: 0.9855\n",
      "Epoch 7/10\n",
      "300/300 - 21s - loss: 0.0426 - accuracy: 0.9872 - val_loss: 0.0428 - val_accuracy: 0.9863\n",
      "Epoch 8/10\n",
      "300/300 - 21s - loss: 0.0378 - accuracy: 0.9886 - val_loss: 0.0413 - val_accuracy: 0.9870\n",
      "Epoch 9/10\n",
      "300/300 - 21s - loss: 0.0342 - accuracy: 0.9895 - val_loss: 0.0376 - val_accuracy: 0.9870\n",
      "Epoch 10/10\n",
      "300/300 - 22s - loss: 0.0316 - accuracy: 0.9901 - val_loss: 0.0384 - val_accuracy: 0.9879\n",
      "313/313 [==============================] - 2s 7ms/step - loss: 0.0384 - accuracy: 0.9879\n",
      "Accuracy: 0.9879000186920166 \n",
      " Error: 1.2099981307983398\n"
     ]
    }
   ],
   "source": [
    "# build the model\n",
    "\n",
    "model = convolutional_model()\n",
    "\n",
    "model.fit(X_train, y_train, validation_data = (X_test, y_test), epochs=10, batch_size=200, verbose=2)\n",
    "\n",
    "scores = model.evaluate(X_test, y_test)\n",
    "\n",
    "print('Accuracy: {} \\n Error: {}'.format(scores[1], 100-scores[1]*100))"
   ]
  },
  {
   "cell_type": "code",
   "execution_count": null,
   "metadata": {},
   "outputs": [],
   "source": []
  }
 ],
 "metadata": {
  "kernelspec": {
   "display_name": "Python 3",
   "language": "python",
   "name": "python3"
  },
  "language_info": {
   "codemirror_mode": {
    "name": "ipython",
    "version": 3
   },
   "file_extension": ".py",
   "mimetype": "text/x-python",
   "name": "python",
   "nbconvert_exporter": "python",
   "pygments_lexer": "ipython3",
   "version": "3.7.6"
  }
 },
 "nbformat": 4,
 "nbformat_minor": 4
}
