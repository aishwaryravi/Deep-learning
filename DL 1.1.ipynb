{
 "cells": [
  {
   "cell_type": "code",
   "execution_count": 1,
   "metadata": {},
   "outputs": [],
   "source": [
    "import numpy as np\n",
    "\n",
    "weights = np.around(np.random.uniform(size=6), decimals=2)\n",
    "biases = np.around(np.random.uniform(size=3), decimals=2)"
   ]
  },
  {
   "cell_type": "code",
   "execution_count": 2,
   "metadata": {},
   "outputs": [
    {
     "name": "stdout",
     "output_type": "stream",
     "text": [
      "[0.12 0.34 0.67 0.45 0.9  0.67]\n",
      "[0.59 0.14 0.86]\n"
     ]
    }
   ],
   "source": [
    "print(weights)\n",
    "print(biases)"
   ]
  },
  {
   "cell_type": "code",
   "execution_count": 3,
   "metadata": {},
   "outputs": [
    {
     "name": "stdout",
     "output_type": "stream",
     "text": [
      "x1 is 0.5 and x2 is 0.85\n"
     ]
    }
   ],
   "source": [
    "x_1 = 0.5\n",
    "x_2 = 0.85\n",
    "\n",
    "print('x1 is {} and x2 is {}'.format(x_1, x_2))"
   ]
  },
  {
   "cell_type": "code",
   "execution_count": 4,
   "metadata": {},
   "outputs": [
    {
     "name": "stdout",
     "output_type": "stream",
     "text": [
      "The weighted sum of the inputs at the first node at the hidden layer is 0.9390000000000001\n"
     ]
    }
   ],
   "source": [
    "z_11 = x_1*weights[0] + x_2*weights[1] + biases[0]\n",
    "\n",
    "print('The weighted sum of the inputs at the first node at the hidden layer is {}'.format(z_11))"
   ]
  },
  {
   "cell_type": "code",
   "execution_count": 5,
   "metadata": {},
   "outputs": [
    {
     "data": {
      "text/plain": [
       "0.8575"
      ]
     },
     "execution_count": 5,
     "metadata": {},
     "output_type": "execute_result"
    }
   ],
   "source": [
    "z_12 = x_1*weights[2] + x_2*weights[3] + biases[1]\n",
    "z_12"
   ]
  },
  {
   "cell_type": "code",
   "execution_count": 6,
   "metadata": {},
   "outputs": [
    {
     "name": "stdout",
     "output_type": "stream",
     "text": [
      "The weighted sum of inputs at the second node in the hidden layer is 0.8575\n"
     ]
    }
   ],
   "source": [
    "print('The weighted sum of inputs at the second node in the hidden layer is {}'.format(np.around(z_12, decimals=4)))"
   ]
  },
  {
   "cell_type": "code",
   "execution_count": 7,
   "metadata": {},
   "outputs": [
    {
     "name": "stdout",
     "output_type": "stream",
     "text": [
      "The activation of the first node in the hidden layer is 0.7189\n"
     ]
    }
   ],
   "source": [
    "# activation function\n",
    "a_11 = 1.0/(1.0 + np.exp(-z_11))\n",
    "\n",
    "print('The activation of the first node in the hidden layer is {}'.format(np.around(a_11, decimals=4)))"
   ]
  },
  {
   "cell_type": "code",
   "execution_count": 8,
   "metadata": {},
   "outputs": [
    {
     "name": "stdout",
     "output_type": "stream",
     "text": [
      "The activation of the second node in the hidden layer is 0.7021\n"
     ]
    }
   ],
   "source": [
    "a_12 = 1.0/(1.0 + np.exp(-z_12))\n",
    "print('The activation of the second node in the hidden layer is {}'.format(np.around(a_12, decimals=4)))"
   ]
  },
  {
   "cell_type": "code",
   "execution_count": 9,
   "metadata": {},
   "outputs": [
    {
     "data": {
      "text/plain": [
       "1.9774403617375556"
      ]
     },
     "execution_count": 9,
     "metadata": {},
     "output_type": "execute_result"
    }
   ],
   "source": [
    "# output layer\n",
    "z_2 = a_11*weights[4] + a_12*weights[5] + biases[2]\n",
    "z_2"
   ]
  },
  {
   "cell_type": "code",
   "execution_count": 10,
   "metadata": {},
   "outputs": [
    {
     "name": "stdout",
     "output_type": "stream",
     "text": [
      "The weighted sum of inputs at the node in output layer is 1.9774\n"
     ]
    }
   ],
   "source": [
    "print('The weighted sum of inputs at the node in output layer is {}'.format(np.around(z_2, decimals=4)))"
   ]
  },
  {
   "cell_type": "code",
   "execution_count": 11,
   "metadata": {},
   "outputs": [
    {
     "data": {
      "text/plain": [
       "0.8784080386055025"
      ]
     },
     "execution_count": 11,
     "metadata": {},
     "output_type": "execute_result"
    }
   ],
   "source": [
    "a_2 = 1.0/(1.0 + np.exp(-z_2))\n",
    "a_2"
   ]
  },
  {
   "cell_type": "code",
   "execution_count": 12,
   "metadata": {},
   "outputs": [
    {
     "name": "stdout",
     "output_type": "stream",
     "text": [
      "The output of the network for x1=0.5 and x2=0.85 is 0.8784\n"
     ]
    }
   ],
   "source": [
    "print(\"The output of the network for x1=0.5 and x2=0.85 is {}\".format(np.around(a_2, decimals=4)))"
   ]
  },
  {
   "cell_type": "code",
   "execution_count": 14,
   "metadata": {},
   "outputs": [],
   "source": [
    "n = 2\n",
    "num_hidden_layers = 2\n",
    "m = [2,2]\n",
    "num_nodes_output = 1"
   ]
  },
  {
   "cell_type": "code",
   "execution_count": 17,
   "metadata": {},
   "outputs": [
    {
     "name": "stdout",
     "output_type": "stream",
     "text": [
      "{'layer_1': {'node_1': {'weights': array([0.71, 0.37]), 'biases': array([0.81])}, 'node_2': {'weights': array([0.23, 0.14]), 'biases': array([0.15])}}, 'layer_2': {'node_1': {'weights': array([0.19, 0.15]), 'biases': array([0.7])}, 'node_2': {'weights': array([0.73, 0.79]), 'biases': array([0.99])}}, 'output': {'node_1': {'weights': array([0.06, 0.44]), 'biases': array([0.62])}}}\n"
     ]
    }
   ],
   "source": [
    "import numpy as np\n",
    "\n",
    "num_nodes_previous = n\n",
    "\n",
    "network = {}\n",
    "\n",
    "for layer in range(num_hidden_layers + 1):\n",
    "    #determine the name of layer\n",
    "    if layer == num_hidden_layers:\n",
    "        layer_name = 'output'\n",
    "        num_nodes = num_nodes_output\n",
    "    else:\n",
    "        layer_name = 'layer_{}'.format(layer + 1)\n",
    "        num_nodes = m[layer]\n",
    "        \n",
    "    #initialize weights and biases associated with each node in current layer\n",
    "    network[layer_name] = {}\n",
    "    for node in range(num_nodes):\n",
    "        node_name = 'node_{}'.format(node + 1)\n",
    "        network[layer_name][node_name] = {\n",
    "            'weights': np.around(np.random.uniform(size=num_nodes_previous), decimals=2),\n",
    "            'biases': np.around(np.random.uniform(size=1), decimals=2),\n",
    "        }\n",
    "    num_nodes_previous = num_nodes\n",
    "print(network)"
   ]
  },
  {
   "cell_type": "code",
   "execution_count": 18,
   "metadata": {},
   "outputs": [],
   "source": [
    "# make a function of above\n",
    "\n",
    "def initialize_network(num_inputs, num_hidden_layers, num_nodes_hidden, num_nodes_output):\n",
    "    \n",
    "    num_nodes_previous = num_inputs\n",
    "    network = {}\n",
    "    \n",
    "    for layer in range(num_hidden_layers + 1):\n",
    "        if layer == num_hidden_layers:\n",
    "            layer_name = 'output'\n",
    "            num_nodes = num_nodes_output\n",
    "        else:\n",
    "            layer_name = 'layer_{}'.format(layer + 1)\n",
    "            num_nodes = num_nodes_hidden[layer]\n",
    "            \n",
    "        network[layer_name] = {}\n",
    "        for node in range(num_nodes):\n",
    "            node_name = 'node_{}'.format(node + 1)\n",
    "            network[layer_name][node_name] = {\n",
    "                'weights': np.around(np.random.uniform(size=num_nodes_previous), decimals=2),\n",
    "                'biases': np.around(np.random.uniform(size=1), decimals=2),\n",
    "            }\n",
    "            \n",
    "        num_nodes_previous = num_nodes\n",
    "    return network\n",
    "    "
   ]
  },
  {
   "cell_type": "code",
   "execution_count": 19,
   "metadata": {},
   "outputs": [
    {
     "data": {
      "text/plain": [
       "{'layer_1': {'node_1': {'weights': array([0.6 , 0.21, 0.46, 0.08, 0.19]),\n",
       "   'biases': array([0.89])},\n",
       "  'node_2': {'weights': array([0.51, 0.27, 0.12, 0.4 , 0.51]),\n",
       "   'biases': array([0.65])},\n",
       "  'node_3': {'weights': array([0.67, 0.85, 0.45, 0.83, 0.17]),\n",
       "   'biases': array([0.51])}},\n",
       " 'layer_2': {'node_1': {'weights': array([0.56, 0.89, 0.65]),\n",
       "   'biases': array([0.86])},\n",
       "  'node_2': {'weights': array([0.03, 0.81, 0.13]), 'biases': array([0.44])}},\n",
       " 'layer_3': {'node_1': {'weights': array([0.47, 0.16]),\n",
       "   'biases': array([0.68])},\n",
       "  'node_2': {'weights': array([0.76, 0.92]), 'biases': array([0.59])},\n",
       "  'node_3': {'weights': array([0.58, 0.94]), 'biases': array([0.56])}},\n",
       " 'output': {'node_1': {'weights': array([0.58, 0.98, 0.74]),\n",
       "   'biases': array([0.54])}}}"
      ]
     },
     "execution_count": 19,
     "metadata": {},
     "output_type": "execute_result"
    }
   ],
   "source": [
    "small_network = initialize_network(5, 3, [3,2,3], 1)\n",
    "small_network"
   ]
  },
  {
   "cell_type": "code",
   "execution_count": 22,
   "metadata": {},
   "outputs": [],
   "source": [
    "# compute weighted sum\n",
    "\n",
    "def compute_weighted_sum(inputs, weights, bias):\n",
    "    return np.sum(inputs * weights) + bias"
   ]
  },
  {
   "cell_type": "code",
   "execution_count": 23,
   "metadata": {},
   "outputs": [
    {
     "name": "stdout",
     "output_type": "stream",
     "text": [
      "The inputs to the network are [0.15 0.74 0.26 0.53 0.01]\n"
     ]
    }
   ],
   "source": [
    "from random import seed\n",
    "import numpy as np\n",
    "\n",
    "np.random.seed(12)\n",
    "\n",
    "inputs = np.around(np.random.uniform(size=5), decimals=2)\n",
    "\n",
    "print('The inputs to the network are {}'.format(inputs))"
   ]
  },
  {
   "cell_type": "code",
   "execution_count": 25,
   "metadata": {},
   "outputs": [
    {
     "name": "stdout",
     "output_type": "stream",
     "text": [
      "The weighted sum at the first node in the first hidden layer 1.2993\n"
     ]
    }
   ],
   "source": [
    "node_weights = small_network['layer_1']['node_1']['weights']\n",
    "node_bias = small_network['layer_1']['node_1']['biases']\n",
    "\n",
    "weighted_sum = compute_weighted_sum(inputs, node_weights, node_bias)\n",
    "\n",
    "print('The weighted sum at the first node in the first hidden layer {}'.format(np.around(weighted_sum[0], decimals=4)))\n",
    "\n"
   ]
  },
  {
   "cell_type": "code",
   "execution_count": 26,
   "metadata": {},
   "outputs": [],
   "source": [
    "# compute node activation\n",
    "\n",
    "def node_activation(weighted_sum):\n",
    "    return 1.0/(1.0 + np.exp(-1*weighted_sum))"
   ]
  },
  {
   "cell_type": "code",
   "execution_count": 27,
   "metadata": {},
   "outputs": [
    {
     "name": "stdout",
     "output_type": "stream",
     "text": [
      "The output of the first node in the first hidden layer is 0.7857\n"
     ]
    }
   ],
   "source": [
    "node_output = node_activation(compute_weighted_sum(inputs, node_weights, node_bias))\n",
    "\n",
    "print('The output of the first node in the first hidden layer is {}'.format(np.around(node_output[0], decimals=4)))"
   ]
  },
  {
   "cell_type": "code",
   "execution_count": 37,
   "metadata": {},
   "outputs": [],
   "source": [
    "# Forward propagation\n",
    "    \n",
    "def forward_propagate(network, inputs):\n",
    "    \n",
    "    layer_inputs = list(inputs) # start with the input layer as the input to the first hidden layer\n",
    "    \n",
    "    for layer in network:\n",
    "        \n",
    "        layer_data = network[layer]\n",
    "        \n",
    "        layer_outputs = [] \n",
    "        for layer_node in layer_data:\n",
    "        \n",
    "            node_data = layer_data[layer_node]\n",
    "        \n",
    "            # compute the weighted sum and the output of each node at the same time \n",
    "            node_output = node_activation(compute_weighted_sum(layer_inputs, node_data['weights'], node_data['biases']))\n",
    "            layer_outputs.append(np.around(node_output[0], decimals=4))\n",
    "            \n",
    "        if layer != 'output':\n",
    "            print('The outputs of the nodes in hidden layer number {} is {}'.format(layer.split('_')[1], layer_outputs))\n",
    "    \n",
    "        layer_inputs = layer_outputs # set the output of this layer to be the input to next layer\n",
    "\n",
    "    network_predictions = layer_outputs\n",
    "    return network_predictions\n",
    "        "
   ]
  },
  {
   "cell_type": "code",
   "execution_count": 38,
   "metadata": {},
   "outputs": [
    {
     "name": "stdout",
     "output_type": "stream",
     "text": [
      "The outputs of the nodes in hidden layer number 1 is [0.7857, 0.764, 0.8579]\n",
      "The outputs of the nodes in hidden layer number 2 is [0.9267, 0.7674]\n",
      "The outputs of the nodes in hidden layer number 3 is [0.7753, 0.8808, 0.8604]\n",
      "The predicted value by the network for the given input is 0.9234\n"
     ]
    }
   ],
   "source": [
    "predictions = forward_propagate(small_network, inputs)\n",
    "print('The predicted value by the network for the given input is {}'.format(np.around(predictions[0], decimals=4)))"
   ]
  },
  {
   "cell_type": "code",
   "execution_count": 44,
   "metadata": {},
   "outputs": [
    {
     "name": "stdout",
     "output_type": "stream",
     "text": [
      "The outputs of the nodes in hidden layer number 1 is [0.9817, 0.9579, 0.9801]\n",
      "The outputs of the nodes in hidden layer number 2 is [0.8495, 0.8969, 0.7247]\n",
      "The outputs of the nodes in hidden layer number 3 is [0.7622, 0.7518]\n",
      "The predicted value by the network for the given input is 0.7371\n"
     ]
    }
   ],
   "source": [
    "first_network = initialize_network(8, 3, [3,3,2], 6)\n",
    "inputs = np.around(np.random.uniform(size=8), decimals=2)\n",
    "predictions = forward_propagate(first_network, inputs)\n",
    "\n",
    "print('The predicted value by the network for the given input is {}'.format(predictions[0], decimals=4))"
   ]
  },
  {
   "cell_type": "code",
   "execution_count": null,
   "metadata": {},
   "outputs": [],
   "source": []
  }
 ],
 "metadata": {
  "kernelspec": {
   "display_name": "Python 3",
   "language": "python",
   "name": "python3"
  },
  "language_info": {
   "codemirror_mode": {
    "name": "ipython",
    "version": 3
   },
   "file_extension": ".py",
   "mimetype": "text/x-python",
   "name": "python",
   "nbconvert_exporter": "python",
   "pygments_lexer": "ipython3",
   "version": "3.7.6"
  }
 },
 "nbformat": 4,
 "nbformat_minor": 4
}
